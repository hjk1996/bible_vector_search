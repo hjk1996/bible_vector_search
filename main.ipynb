{
 "cells": [
  {
   "cell_type": "code",
   "execution_count": 28,
   "metadata": {},
   "outputs": [],
   "source": [
    "import json\n",
    "\n",
    "from pprint import pprint\n",
    "import torch\n",
    "import transformers\n",
    "\n",
    "from bible import Bible\n",
    "from embeddings import load_embeddings\n",
    "from models import ModelWrapper"
   ]
  },
  {
   "cell_type": "code",
   "execution_count": 29,
   "metadata": {},
   "outputs": [],
   "source": [
    "bible = Bible(\"data/nrsv_bible.xml\", \"data/chapter_index_map.json\")\n",
    "device = torch.device(\"cpu\")\n",
    "embeddings = load_embeddings(\"embeddings\", device)\n",
    "with open(\"data/top_50.json\") as f:\n",
    "    top_50 = json.load(f)"
   ]
  },
  {
   "cell_type": "code",
   "execution_count": 30,
   "metadata": {},
   "outputs": [],
   "source": [
    "gpt2_xl = transformers.GPT2Model.from_pretrained(\"gpt2-xl\").to(\"cpu\")\n",
    "gpt2_xl_tokenizer = transformers.GPT2Tokenizer.from_pretrained(\"gpt2-xl\")"
   ]
  },
  {
   "cell_type": "code",
   "execution_count": 31,
   "metadata": {},
   "outputs": [],
   "source": [
    "gpt2_xl_model = ModelWrapper(\n",
    "        model=gpt2_xl,\n",
    "        tokenizer=gpt2_xl_tokenizer,\n",
    "        bible=bible,\n",
    "        embedding=embeddings[\"gpt2_xl\"],\n",
    "        name=\"gpt2_xl\",\n",
    "        device=device,\n",
    "    )\n"
   ]
  },
  {
   "cell_type": "code",
   "execution_count": 10,
   "metadata": {},
   "outputs": [
    {
     "data": {
      "text/plain": [
       "0.66"
      ]
     },
     "execution_count": 10,
     "metadata": {},
     "output_type": "execute_result"
    }
   ],
   "source": [
    "gpt2_xl_model.get_top_n_acc(top_50, 3)"
   ]
  },
  {
   "cell_type": "code",
   "execution_count": 32,
   "metadata": {},
   "outputs": [],
   "source": [
    "sent1 = \"Moses escapes from Egypt with his people crossing the red sea\"\n",
    "sent2 = \"God created the world in 6 days\"\n",
    "sent3 = \"Jesus is born in Bethlehem\"\n",
    "sent4 = \"Jesus is crucified on the cross\"\n",
    "sent5 = \"Jesus is resurrected from the dead\"\n",
    "sent6 = \"David defeats Goliath with a slingshot\"\n",
    "sent7 = \"God tests Abraham's faith by asking him to sacrifice his son\""
   ]
  },
  {
   "cell_type": "code",
   "execution_count": 37,
   "metadata": {},
   "outputs": [
    {
     "name": "stdout",
     "output_type": "stream",
     "text": [
      "['Ecclesiastes 8', 'Ecclesiastes 12', 'Job 14', 'Job 27', 'Ecclesiastes 2']\n"
     ]
    }
   ],
   "source": [
    "pprint(gpt2_xl_model.get_related_n_chapters(\"After death there is heaven, so we must have hope\", 5, with_text=False))"
   ]
  },
  {
   "cell_type": "code",
   "execution_count": null,
   "metadata": {},
   "outputs": [],
   "source": []
  }
 ],
 "metadata": {
  "kernelspec": {
   "display_name": "Python 3",
   "language": "python",
   "name": "python3"
  },
  "language_info": {
   "codemirror_mode": {
    "name": "ipython",
    "version": 3
   },
   "file_extension": ".py",
   "mimetype": "text/x-python",
   "name": "python",
   "nbconvert_exporter": "python",
   "pygments_lexer": "ipython3",
   "version": "3.9.16"
  },
  "orig_nbformat": 4
 },
 "nbformat": 4,
 "nbformat_minor": 2
}
